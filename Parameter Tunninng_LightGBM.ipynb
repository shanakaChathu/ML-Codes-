{
 "cells": [
  {
   "cell_type": "code",
   "execution_count": 5,
   "metadata": {},
   "outputs": [
    {
     "name": "stderr",
     "output_type": "stream",
     "text": [
      "C:\\ProgramData\\Anaconda3\\lib\\site-packages\\sklearn\\cross_validation.py:41: DeprecationWarning: This module was deprecated in version 0.18 in favor of the model_selection module into which all the refactored classes and functions are moved. Also note that the interface of the new CV iterators are different from that of this module. This module will be removed in 0.20.\n",
      "  \"This module will be removed in 0.20.\", DeprecationWarning)\n",
      "C:\\ProgramData\\Anaconda3\\lib\\site-packages\\sklearn\\grid_search.py:42: DeprecationWarning: This module was deprecated in version 0.18 in favor of the model_selection module into which all the refactored classes and functions are moved. This module will be removed in 0.20.\n",
      "  DeprecationWarning)\n"
     ]
    }
   ],
   "source": [
    "#Import libraries:\n",
    "import pandas as pd\n",
    "import numpy as np\n",
    "import xgboost as xgb\n",
    "from xgboost.sklearn import XGBClassifier\n",
    "from sklearn import cross_validation, metrics   #Additional scklearn functions\n",
    "from sklearn.grid_search import GridSearchCV   #Perforing grid search\n",
    "\n",
    "from sklearn.metrics import roc_auc_score, roc_curve\n",
    "from sklearn.model_selection import StratifiedKFold\n",
    "from sklearn.model_selection import train_test_split\n",
    "\n",
    "\n",
    "import matplotlib.pylab as plt\n",
    "%matplotlib inline\n",
    "from matplotlib.pylab import rcParams\n",
    "rcParams['figure.figsize'] = 12, 4\n",
    "import matplotlib\n",
    "import matplotlib.pyplot as pyplot # for plotting\n",
    "\n",
    "\n",
    "import gc\n",
    "import os\n",
    "import logging\n",
    "import datetime\n",
    "import warnings\n",
    "import numpy as np\n",
    "import pandas as pd\n",
    "import seaborn as sns\n",
    "import lightgbm as lgb\n",
    "from tqdm import tqdm_notebook\n",
    "import matplotlib.pyplot as plt\n",
    "from sklearn.metrics import mean_squared_error\n",
    "from sklearn.metrics import roc_auc_score, roc_curve\n",
    "from sklearn.model_selection import StratifiedKFold\n",
    "from sklearn.model_selection import train_test_split\n",
    "warnings.filterwarnings('ignore')\n",
    "\n",
    "import pandas as pd\n",
    "import numpy as np\n",
    "import xgboost as xgb\n",
    "from xgboost.sklearn import XGBClassifier\n",
    "from sklearn import cross_validation, metrics   #Additional scklearn functions\n",
    "from sklearn.grid_search import GridSearchCV   #Perforing grid search"
   ]
  },
  {
   "cell_type": "code",
   "execution_count": 6,
   "metadata": {},
   "outputs": [],
   "source": [
    "train = pd.read_csv('train_modified.csv')\n",
    "test = pd.read_csv('test_modified.csv')\n",
    "train['target']=train['Disbursed']\n",
    "train=train.drop('Disbursed',axis=1)\n",
    "target = 'Disbursed'\n",
    "IDcol = 'ID'"
   ]
  },
  {
   "cell_type": "code",
   "execution_count": 7,
   "metadata": {},
   "outputs": [
    {
     "data": {
      "text/html": [
       "<div>\n",
       "<style scoped>\n",
       "    .dataframe tbody tr th:only-of-type {\n",
       "        vertical-align: middle;\n",
       "    }\n",
       "\n",
       "    .dataframe tbody tr th {\n",
       "        vertical-align: top;\n",
       "    }\n",
       "\n",
       "    .dataframe thead th {\n",
       "        text-align: right;\n",
       "    }\n",
       "</style>\n",
       "<table border=\"1\" class=\"dataframe\">\n",
       "  <thead>\n",
       "    <tr style=\"text-align: right;\">\n",
       "      <th></th>\n",
       "      <th>Age</th>\n",
       "      <th>Device_Type_0</th>\n",
       "      <th>Device_Type_1</th>\n",
       "      <th>EMI_Loan_Submitted_Missing</th>\n",
       "      <th>Existing_EMI</th>\n",
       "      <th>Filled_Form_0</th>\n",
       "      <th>Filled_Form_1</th>\n",
       "      <th>Gender_0</th>\n",
       "      <th>Gender_1</th>\n",
       "      <th>ID</th>\n",
       "      <th>...</th>\n",
       "      <th>Var2_0</th>\n",
       "      <th>Var2_1</th>\n",
       "      <th>Var2_2</th>\n",
       "      <th>Var2_3</th>\n",
       "      <th>Var2_4</th>\n",
       "      <th>Var2_5</th>\n",
       "      <th>Var2_6</th>\n",
       "      <th>Var4</th>\n",
       "      <th>Var5</th>\n",
       "      <th>target</th>\n",
       "    </tr>\n",
       "  </thead>\n",
       "  <tbody>\n",
       "    <tr>\n",
       "      <th>0</th>\n",
       "      <td>37</td>\n",
       "      <td>0</td>\n",
       "      <td>1</td>\n",
       "      <td>1</td>\n",
       "      <td>0.0</td>\n",
       "      <td>1</td>\n",
       "      <td>0</td>\n",
       "      <td>1</td>\n",
       "      <td>0</td>\n",
       "      <td>ID000002C20</td>\n",
       "      <td>...</td>\n",
       "      <td>0</td>\n",
       "      <td>0</td>\n",
       "      <td>0</td>\n",
       "      <td>0</td>\n",
       "      <td>0</td>\n",
       "      <td>0</td>\n",
       "      <td>1</td>\n",
       "      <td>1</td>\n",
       "      <td>0</td>\n",
       "      <td>0.0</td>\n",
       "    </tr>\n",
       "    <tr>\n",
       "      <th>1</th>\n",
       "      <td>30</td>\n",
       "      <td>0</td>\n",
       "      <td>1</td>\n",
       "      <td>0</td>\n",
       "      <td>0.0</td>\n",
       "      <td>1</td>\n",
       "      <td>0</td>\n",
       "      <td>0</td>\n",
       "      <td>1</td>\n",
       "      <td>ID000004E40</td>\n",
       "      <td>...</td>\n",
       "      <td>0</td>\n",
       "      <td>0</td>\n",
       "      <td>0</td>\n",
       "      <td>0</td>\n",
       "      <td>0</td>\n",
       "      <td>0</td>\n",
       "      <td>1</td>\n",
       "      <td>3</td>\n",
       "      <td>13</td>\n",
       "      <td>0.0</td>\n",
       "    </tr>\n",
       "  </tbody>\n",
       "</table>\n",
       "<p>2 rows × 51 columns</p>\n",
       "</div>"
      ],
      "text/plain": [
       "   Age  Device_Type_0  Device_Type_1  EMI_Loan_Submitted_Missing  \\\n",
       "0   37              0              1                           1   \n",
       "1   30              0              1                           0   \n",
       "\n",
       "   Existing_EMI  Filled_Form_0  Filled_Form_1  Gender_0  Gender_1  \\\n",
       "0           0.0              1              0         1         0   \n",
       "1           0.0              1              0         0         1   \n",
       "\n",
       "            ID   ...    Var2_0  Var2_1  Var2_2  Var2_3  Var2_4  Var2_5  \\\n",
       "0  ID000002C20   ...         0       0       0       0       0       0   \n",
       "1  ID000004E40   ...         0       0       0       0       0       0   \n",
       "\n",
       "   Var2_6  Var4  Var5  target  \n",
       "0       1     1     0     0.0  \n",
       "1       1     3    13     0.0  \n",
       "\n",
       "[2 rows x 51 columns]"
      ]
     },
     "execution_count": 7,
     "metadata": {},
     "output_type": "execute_result"
    }
   ],
   "source": [
    "data=train.append(test)\n",
    "data.head(2)"
   ]
  },
  {
   "cell_type": "code",
   "execution_count": 118,
   "metadata": {},
   "outputs": [
    {
     "name": "stdout",
     "output_type": "stream",
     "text": [
      "[10]\tcv_agg's auc: 0.829396 + 0.00378279\n",
      "[20]\tcv_agg's auc: 0.830851 + 0.00347481\n",
      "[30]\tcv_agg's auc: 0.831793 + 0.0029203\n",
      "[40]\tcv_agg's auc: 0.833629 + 0.00273869\n",
      "[50]\tcv_agg's auc: 0.833759 + 0.00358252\n",
      "[60]\tcv_agg's auc: 0.83491 + 0.00377431\n",
      "[70]\tcv_agg's auc: 0.836707 + 0.00427216\n",
      "[80]\tcv_agg's auc: 0.837876 + 0.00362007\n",
      "[90]\tcv_agg's auc: 0.837276 + 0.00364127\n",
      "[100]\tcv_agg's auc: 0.838218 + 0.00297103\n",
      "[110]\tcv_agg's auc: 0.838437 + 0.00269462\n",
      "[120]\tcv_agg's auc: 0.838579 + 0.00305729\n",
      "[130]\tcv_agg's auc: 0.837828 + 0.00240512\n",
      "[140]\tcv_agg's auc: 0.837164 + 0.00312471\n",
      "[150]\tcv_agg's auc: 0.836581 + 0.00198684\n",
      "[160]\tcv_agg's auc: 0.83549 + 0.00197278\n",
      "\n",
      "Model Report-train\n",
      "Accuracy : 0.9854\n",
      "AUC Score (Train): 0.902417\n",
      "\n",
      "Model Report-test\n",
      "Accuracy : 0.9854\n",
      "AUC Score (Test): 0.883321\n"
     ]
    }
   ],
   "source": [
    "alg = lgb.LGBMClassifier(\n",
    " learning_rate =0.1,\n",
    " n_estimators=1000,\n",
    " max_depth=5,\n",
    " min_child_weight=1,\n",
    " subsample=0.8,\n",
    " colsample_bytree=0.8,\n",
    " objective= 'binary',\n",
    " nthread=4,\n",
    " metric='auc',\n",
    " seed=27)\n",
    "\n",
    "X = data.loc[~data.target.isna(),features]\n",
    "Y = data[~data.target.isna()].target\n",
    "X_train, X_test, y_train, y_test = train_test_split( X, Y,test_size = 0.3, random_state = 100,stratify=Y)\n",
    "lgb_train = lgb.Dataset(data=X_train, label=y_train)\n",
    "lgb_eval  = lgb.Dataset(data=X_test, label=y_test)\n",
    "\n",
    "lgb_params=alg.get_params()\n",
    "lgb_train = lgb.Dataset(data=X_train, label=y_train)\n",
    "lgb_eval = lgb.Dataset(data=X_test, label=y_test)\n",
    "cvresult = lgb.cv(lgb_params,lgb_train, nfold = 3, metrics = 'auc', early_stopping_rounds =50,\n",
    "                  seed = 100,verbose_eval=10)\n",
    "alg.set_params(n_estimators=len(cvresult['auc-mean']))\n",
    "\n",
    "len(cvresult['auc-mean'])\n",
    "alg.fit(X,Y)\n",
    "\n",
    "dtrain_predictions = alg.predict(X_train)\n",
    "dtrain_predprob = alg.predict_proba(X_train)[:,1]\n",
    "\n",
    "#Print model report(train):\n",
    "print(\"\\nModel Report-train\")\n",
    "print(\"Accuracy : %.4g\" % metrics.accuracy_score(y_train, dtrain_predictions))\n",
    "print(\"AUC Score (Train): %f\" % metrics.roc_auc_score(y_train, dtrain_predprob))  \n",
    "\n",
    "#Predict on testing data:\n",
    "dtest_predictions = alg.predict(X_test)\n",
    "dtest_predprob = alg.predict_proba(X_test)[:,1]\n",
    "    \n",
    "#Print model report(test):\n",
    "print(\"\\nModel Report-test\")\n",
    "print(\"Accuracy : %.4g\" % metrics.accuracy_score(y_test, dtest_predictions))\n",
    "print(\"AUC Score (Test): %f\" % metrics.roc_auc_score(y_test, dtest_predprob))    "
   ]
  },
  {
   "cell_type": "code",
   "execution_count": 124,
   "metadata": {},
   "outputs": [
    {
     "name": "stdout",
     "output_type": "stream",
     "text": [
      "[10]\ttrain's auc: 0.859776\tvalid's auc: 0.814205\n",
      "[20]\ttrain's auc: 0.865156\tvalid's auc: 0.817586\n",
      "[30]\ttrain's auc: 0.868839\tvalid's auc: 0.820126\n",
      "[40]\ttrain's auc: 0.877189\tvalid's auc: 0.821111\n",
      "[50]\ttrain's auc: 0.882034\tvalid's auc: 0.823444\n",
      "[60]\ttrain's auc: 0.885622\tvalid's auc: 0.825608\n",
      "[70]\ttrain's auc: 0.888865\tvalid's auc: 0.827994\n",
      "[80]\ttrain's auc: 0.895209\tvalid's auc: 0.832108\n",
      "[90]\ttrain's auc: 0.899766\tvalid's auc: 0.833979\n",
      "[100]\ttrain's auc: 0.9031\tvalid's auc: 0.835385\n",
      "[110]\ttrain's auc: 0.908652\tvalid's auc: 0.836402\n"
     ]
    }
   ],
   "source": [
    "lgb_params=alg.get_params()\n",
    "lgb_params\n",
    "evals_results = {}\n",
    "model = lgb.train(lgb_params,lgb_train,valid_sets=[lgb_train,lgb_eval],verbose_eval=10,valid_names=['train','valid']\n",
    "                  ,evals_result=evals_results)\n",
    "#model = alg.fit(X_train,y_train,eval_set=[(X_train,y_train),(X_test,y_test )],eval_metric=\"auc\")"
   ]
  },
  {
   "cell_type": "code",
   "execution_count": 132,
   "metadata": {},
   "outputs": [
    {
     "data": {
      "image/png": "[encoded data removed]",
      "text/plain": [
       "<matplotlib.figure.Figure at 0x1cc8002e400>"
      ]
     },
     "metadata": {},
     "output_type": "display_data"
    }
   ],
   "source": [
    "# plot AUC from train and test set \n",
    "x_axis = range(0, len(evals_results['train']['auc']))\n",
    "fig, ax = pyplot.subplots()\n",
    "ax.plot(x_axis, evals_results['train']['auc'], label='Train')\n",
    "ax.plot(x_axis, evals_results['valid']['auc'], label='Test')\n",
    "ax.legend()\n",
    "pyplot.show()"
   ]
  },
  {
   "cell_type": "code",
   "execution_count": 123,
   "metadata": {},
   "outputs": [
    {
     "data": {
      "text/plain": [
       "<lightgbm.basic.Booster at 0x1ccd342b940>"
      ]
     },
     "execution_count": 123,
     "metadata": {},
     "output_type": "execute_result"
    }
   ],
   "source": []
  },
  {
   "cell_type": "code",
   "execution_count": 68,
   "metadata": {},
   "outputs": [
    {
     "data": {
      "image/png": "[encoded data removed]",
      "text/plain": [
       "<matplotlib.figure.Figure at 0x1ccd412ffd0>"
      ]
     },
     "metadata": {},
     "output_type": "display_data"
    }
   ],
   "source": [
    "# plot AUC from train and test set \n",
    "x_axis = range(0, len(cvresult['auc-mean']))\n",
    "fig, ax = pyplot.subplots()\n",
    "ax.plot(x_axis, cvresult['auc-mean'], label='Test')\n",
    "#ax.plot(x_axis, cvresult['test-auc-mean'], label='Test')\n",
    "ax.legend()\n",
    "pyplot.show()"
   ]
  },
  {
   "cell_type": "code",
   "execution_count": 136,
   "metadata": {
    "scrolled": true
   },
   "outputs": [
    {
     "name": "stdout",
     "output_type": "stream",
     "text": [
      "[10]\tcv_agg's auc: 0.829396 + 0.00378279\n",
      "[20]\tcv_agg's auc: 0.830851 + 0.00347481\n",
      "[30]\tcv_agg's auc: 0.831793 + 0.0029203\n",
      "[40]\tcv_agg's auc: 0.833629 + 0.00273869\n",
      "[50]\tcv_agg's auc: 0.833759 + 0.00358252\n",
      "[60]\tcv_agg's auc: 0.83491 + 0.00377431\n",
      "[70]\tcv_agg's auc: 0.836707 + 0.00427216\n",
      "[80]\tcv_agg's auc: 0.837876 + 0.00362007\n",
      "[90]\tcv_agg's auc: 0.837276 + 0.00364127\n",
      "[100]\tcv_agg's auc: 0.838218 + 0.00297103\n",
      "[110]\tcv_agg's auc: 0.838437 + 0.00269462\n",
      "[120]\tcv_agg's auc: 0.838579 + 0.00305729\n",
      "[130]\tcv_agg's auc: 0.837828 + 0.00240512\n",
      "[140]\tcv_agg's auc: 0.837164 + 0.00312471\n",
      "[150]\tcv_agg's auc: 0.836581 + 0.00198684\n",
      "[160]\tcv_agg's auc: 0.83549 + 0.00197278\n",
      "\n",
      "Model Report-train\n",
      "Accuracy : 0.9854\n",
      "AUC Score (Train): 0.902417\n",
      "\n",
      "Model Report-test\n",
      "Accuracy : 0.9854\n",
      "AUC Score (Test): 0.883321\n"
     ]
    },
    {
     "data": {
      "image/png": "[encoded data removed]",
      "text/plain": [
       "<matplotlib.figure.Figure at 0x1ccd2765ef0>"
      ]
     },
     "metadata": {},
     "output_type": "display_data"
    }
   ],
   "source": [
    "def modelfit(alg, data,features,predictors,useTrainCV=True, cv_folds=5, early_stopping_rounds=50):\n",
    "    \n",
    "    X = data.loc[~data.target.isna(),features]\n",
    "    Y = data[~data.target.isna()].target\n",
    "    X_train, X_test, y_train, y_test = train_test_split( X, Y,test_size = 0.3, random_state = 100,stratify=Y)\n",
    "    \n",
    "    if useTrainCV:\n",
    "        lgb_params=alg.get_params()\n",
    "        lgb_train = lgb.Dataset(data=X_train, label=y_train)\n",
    "        lgb_eval = lgb.Dataset(data=X_test, label=y_test)\n",
    "        cvresult = lgb.cv(lgb_params,lgb_train, nfold = 3, metrics = 'auc', early_stopping_rounds =50,\n",
    "                  seed = 100,verbose_eval=10)\n",
    "        alg.set_params(n_estimators=len(cvresult['auc-mean']))\n",
    "    \n",
    "    #Fit the algorithm on the data\n",
    "    alg.fit(X, Y,eval_metric='auc')\n",
    "    \n",
    "    \n",
    "    #model = lgb.train(lgb_params,lgb_train,valid_sets=[lgb_train,lgb_eval],verbose_eval=10,valid_names=['train','valid']\n",
    "    #              ,evals_result=evals_results)\n",
    "\n",
    "        \n",
    "    #Predict training set:\n",
    "    dtrain_predictions = alg.predict(X_train)\n",
    "    dtrain_predprob = alg.predict_proba(X_train)[:,1]\n",
    "        \n",
    "    #Print model report(train):\n",
    "    print(\"\\nModel Report-train\")\n",
    "    print(\"Accuracy : %.4g\" % metrics.accuracy_score(y_train, dtrain_predictions))\n",
    "    print(\"AUC Score (Train): %f\" % metrics.roc_auc_score(y_train, dtrain_predprob))\n",
    "    \n",
    "    #Predict on testing data:\n",
    "    dtest_predictions = alg.predict(X_test)\n",
    "    dtest_predprob = alg.predict_proba(X_test)[:,1]\n",
    "    \n",
    "    #Print model report(test):\n",
    "    print(\"\\nModel Report-test\")\n",
    "    print(\"Accuracy : %.4g\" % metrics.accuracy_score(y_test, dtest_predictions))\n",
    "    print(\"AUC Score (Test): %f\" % metrics.roc_auc_score(y_test, dtest_predprob))\n",
    "    \n",
    "    # plot AUC from train and test set \n",
    "    x_axis = range(0, len(cvresult['auc-mean']))\n",
    "    fig, ax = pyplot.subplots()\n",
    "    ax.plot(x_axis, cvresult['auc-mean'], label='Train')\n",
    "    #ax.plot(x_axis, cvresult['test-auc-mean'], label='Test')\n",
    "    ax.legend()\n",
    "    pyplot.show()\n",
    "    \n",
    "    #Predicting for the test set \n",
    "    testD=data.loc[data.target.isna(),features]\n",
    "    testD['predprob'] = alg.predict_proba(testD)[:,1]\n",
    "    testD.to_csv(\"Prediction.csv\",index=False)    \n",
    "                \n",
    "    #feat_imp = pd.Series(alg.booster().get_fscore()).sort_values(ascending=False)\n",
    "    #feat_imp.plot(kind='bar', title='Feature Importances')\n",
    "    #plt.ylabel('Feature Importance Score')\n",
    "    return alg, cvresult, testD \n",
    "    \n",
    "#Choose all predictors except target & IDcols\n",
    "target = 'target'\n",
    "IDcol = 'ID'\n",
    "predictors = [x for x in data.columns if x not in [IDcol]]\n",
    "features = [x for x in data.columns if x not in [IDcol,target]]\n",
    "    \n",
    "alg = lgb.LGBMClassifier(\n",
    " learning_rate =0.1,\n",
    " n_estimators=1000,\n",
    " max_depth=5,\n",
    " min_child_weight=1,\n",
    " subsample=0.8,\n",
    " colsample_bytree=0.8,\n",
    " objective= 'binary',\n",
    " nthread=4,\n",
    " seed=27)\n",
    "\n",
    "alg,cvresult,testD=modelfit(alg,data,features,predictors)"
   ]
  },
  {
   "cell_type": "code",
   "execution_count": null,
   "metadata": {},
   "outputs": [],
   "source": [
    "#Parameter tunning process \n",
    "\n",
    "#1. Tune max_depth and min_child_weight \n",
    "#2. Tune gamma \n",
    "#3. Again check optimum number of tress (n_estimators) -model run and check accuracy \n",
    "#4. T une subsample and colsample_bytree\n",
    "#5. Tune reg_alpha\n",
    "#6. Again check optimum number of tress (n_estimators) -model run and check accuracy  for any improvement \n",
    "#7. Reduce learning rate and maximize number of trees and run mode again "
   ]
  },
  {
   "cell_type": "code",
   "execution_count": 116,
   "metadata": {},
   "outputs": [
    {
     "name": "stdout",
     "output_type": "stream",
     "text": [
      "Fitting 3 folds for each of 4 candidates, totalling 12 fits\n"
     ]
    },
    {
     "name": "stderr",
     "output_type": "stream",
     "text": [
      "[Parallel(n_jobs=4)]: Done   1 tasks      | elapsed:   11.3s\n",
      "[Parallel(n_jobs=4)]: Done   2 tasks      | elapsed:   18.0s\n",
      "[Parallel(n_jobs=4)]: Done   3 tasks      | elapsed:   20.2s\n",
      "[Parallel(n_jobs=4)]: Done   4 tasks      | elapsed:   21.8s\n",
      "[Parallel(n_jobs=4)]: Done   5 tasks      | elapsed:   26.9s\n",
      "[Parallel(n_jobs=4)]: Done   6 out of  12 | elapsed:   35.0s remaining:   35.0s\n",
      "[Parallel(n_jobs=4)]: Done   7 out of  12 | elapsed:   48.7s remaining:   34.7s\n",
      "[Parallel(n_jobs=4)]: Done   8 out of  12 | elapsed:   50.1s remaining:   25.0s\n",
      "[Parallel(n_jobs=4)]: Done   9 out of  12 | elapsed:   55.1s remaining:   18.3s\n",
      "[Parallel(n_jobs=4)]: Done  10 out of  12 | elapsed:   59.3s remaining:   11.8s\n",
      "[Parallel(n_jobs=4)]: Done  12 out of  12 | elapsed:  1.1min remaining:    0.0s\n",
      "[Parallel(n_jobs=4)]: Done  12 out of  12 | elapsed:  1.1min finished\n"
     ]
    },
    {
     "data": {
      "text/plain": [
       "([mean: 0.83032, std: 0.00561, params: {'max_depth': 3, 'min_child_weight': 1},\n",
       "  mean: 0.83216, std: 0.00573, params: {'max_depth': 3, 'min_child_weight': 3},\n",
       "  mean: 0.83474, std: 0.00821, params: {'max_depth': 5, 'min_child_weight': 1},\n",
       "  mean: 0.83588, std: 0.00780, params: {'max_depth': 5, 'min_child_weight': 3}],\n",
       " {'max_depth': 5, 'min_child_weight': 3},\n",
       " 0.8358832433201234)"
      ]
     },
     "execution_count": 116,
     "metadata": {},
     "output_type": "execute_result"
    }
   ],
   "source": [
    "#1. Tune max_depth and min_child_weight \n",
    "param_test1 = {\n",
    " 'max_depth':[3,5],\n",
    " 'min_child_weight':[1,3]\n",
    "}\n",
    "estimator=XGBClassifier( learning_rate =0.1, n_estimators=119, gamma=0, subsample=0.8, \n",
    "                        colsample_bytree=0.8,objective= 'binary:logistic', nthread=4, scale_pos_weight=1, seed=27)\n",
    "\n",
    "gsearch1 = GridSearchCV(estimator = estimator, param_grid = param_test1, scoring='roc_auc',n_jobs=4,iid=False, cv=3,verbose=30)\n",
    "gsearch1.fit(train[features],train[target])\n",
    "gsearch1.grid_scores_, gsearch1.best_params_, gsearch1.best_score_"
   ]
  },
  {
   "cell_type": "code",
   "execution_count": null,
   "metadata": {},
   "outputs": [],
   "source": [
    "#2. Tune gamma \n",
    "param_test3 = {\n",
    " 'gamma':[i/10.0 for i in range(0,5)]\n",
    "}\n",
    "gsearch3 = GridSearchCV(estimator = XGBClassifier( learning_rate =0.1, n_estimators=140, max_depth=4,\n",
    " min_child_weight=6, gamma=0, subsample=0.8, colsample_bytree=0.8,\n",
    " objective= 'binary:logistic', nthread=4, scale_pos_weight=1,seed=27), \n",
    " param_grid = param_test3, scoring='roc_auc',n_jobs=4,iid=False, cv=5)\n",
    "gsearch3.fit(train[predictors],train[target])\n",
    "gsearch3.grid_scores_, gsearch3.best_params_, gsearch3.best_score_"
   ]
  },
  {
   "cell_type": "code",
   "execution_count": null,
   "metadata": {},
   "outputs": [],
   "source": [
    "#3. Again check optimum number of tress (n_estimators) -model run and check accuracy \n",
    "alg = XGBClassifier(\n",
    " learning_rate =0.1,\n",
    " n_estimators=1000,\n",
    " max_depth=4,\n",
    " min_child_weight=6,\n",
    " gamma=0,\n",
    " subsample=0.8,\n",
    " colsample_bytree=0.8,\n",
    " objective= 'binary:logistic',\n",
    " nthread=4,\n",
    " scale_pos_weight=1,\n",
    " seed=27)\n",
    "\n",
    "cv,dtest_predictions,yt=modelfit(alg,data,features,predictors)"
   ]
  },
  {
   "cell_type": "code",
   "execution_count": null,
   "metadata": {},
   "outputs": [],
   "source": [
    "#4. Tune subsample and colsample_bytree\n",
    "param_test4 = {\n",
    " 'subsample':[i/10.0 for i in range(6,10)],\n",
    " 'colsample_bytree':[i/10.0 for i in range(6,10)]\n",
    "}\n",
    "gsearch4 = GridSearchCV(estimator = XGBClassifier( learning_rate =0.1, n_estimators=177, max_depth=4,\n",
    " min_child_weight=6, gamma=0, subsample=0.8, colsample_bytree=0.8,\n",
    " objective= 'binary:logistic', nthread=4, scale_pos_weight=1,seed=27), \n",
    " param_grid = param_test4, scoring='roc_auc',n_jobs=4,iid=False, cv=5)\n",
    "gsearch4.fit(train[predictors],train[target])\n",
    "gsearch4.grid_scores_, gsearch4.best_params_, gsearch4.best_score_"
   ]
  },
  {
   "cell_type": "code",
   "execution_count": null,
   "metadata": {},
   "outputs": [],
   "source": [
    "#5. Tune reg_alpha\n",
    "param_test6 = {\n",
    " 'reg_alpha':[1e-5, 1e-2, 0.1, 1, 100]\n",
    "}\n",
    "gsearch6 = GridSearchCV(estimator = XGBClassifier( learning_rate =0.1, n_estimators=177, max_depth=4,\n",
    " min_child_weight=6, gamma=0.1, subsample=0.8, colsample_bytree=0.8,\n",
    " objective= 'binary:logistic', nthread=4, scale_pos_weight=1,seed=27), \n",
    " param_grid = param_test6, scoring='roc_auc',n_jobs=4,iid=False, cv=5)\n",
    "gsearch6.fit(train[predictors],train[target])\n",
    "gsearch6.grid_scores_, gsearch6.best_params_, gsearch6.best_score_"
   ]
  },
  {
   "cell_type": "code",
   "execution_count": null,
   "metadata": {},
   "outputs": [],
   "source": [
    "#6. Again check optimum number of tress (n_estimators) -model run and check accuracy  for any improvement \n",
    "alg = XGBClassifier(\n",
    " learning_rate =0.1,\n",
    " n_estimators=1000,\n",
    " max_depth=4,\n",
    " min_child_weight=6,\n",
    " gamma=0,\n",
    " subsample=0.8,\n",
    " colsample_bytree=0.8,\n",
    " objective= 'binary:logistic',\n",
    " nthread=4,\n",
    " scale_pos_weight=1,\n",
    " seed=27)\n",
    "\n",
    "cv,dtest_predictions,yt=modelfit(alg,data,features,predictors)"
   ]
  },
  {
   "cell_type": "code",
   "execution_count": null,
   "metadata": {},
   "outputs": [],
   "source": [
    "#7. Reduce learning rate and maximize number of trees and run mode again \n",
    "alg = XGBClassifier(\n",
    " learning_rate =0.01,\n",
    " n_estimators=5000,\n",
    " max_depth=4,\n",
    " min_child_weight=6,\n",
    " gamma=0,\n",
    " subsample=0.8,\n",
    " colsample_bytree=0.8,\n",
    " reg_alpha=0.005,\n",
    " objective= 'binary:logistic',\n",
    " nthread=4,\n",
    " scale_pos_weight=1,\n",
    " seed=27)\n",
    "\n",
    "cv,dtest_predictions,yt=modelfit(alg,data,features,predictors)"
   ]
  }
 ],
 "metadata": {
  "kernelspec": {
   "display_name": "Python 3",
   "language": "python",
   "name": "python3"
  },
  "language_info": {
   "codemirror_mode": {
    "name": "ipython",
    "version": 3
   },
   "file_extension": ".py",
   "mimetype": "text/x-python",
   "name": "python",
   "nbconvert_exporter": "python",
   "pygments_lexer": "ipython3",
   "version": "3.6.4"
  }
 },
 "nbformat": 4,
 "nbformat_minor": 2
}
