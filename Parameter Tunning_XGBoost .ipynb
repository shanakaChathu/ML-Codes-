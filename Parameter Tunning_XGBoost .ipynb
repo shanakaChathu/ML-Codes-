{
 "cells": [
  {
   "cell_type": "code",
   "execution_count": 106,
   "metadata": {},
   "outputs": [],
   "source": [
    "#Import libraries:\n",
    "import pandas as pd\n",
    "import numpy as np\n",
    "import xgboost as xgb\n",
    "from xgboost.sklearn import XGBClassifier\n",
    "from sklearn import cross_validation, metrics   #Additional scklearn functions\n",
    "from sklearn.grid_search import GridSearchCV   #Perforing grid search\n",
    "\n",
    "from sklearn.metrics import roc_auc_score, roc_curve\n",
    "from sklearn.model_selection import StratifiedKFold\n",
    "from sklearn.model_selection import train_test_split\n",
    "\n",
    "\n",
    "import matplotlib.pylab as plt\n",
    "%matplotlib inline\n",
    "from matplotlib.pylab import rcParams\n",
    "rcParams['figure.figsize'] = 12, 4\n",
    "import matplotlib\n",
    "import matplotlib.pyplot as pyplot # for plotting\n",
    "\n",
    "\n",
    "import gc\n",
    "import os\n",
    "import logging\n",
    "import datetime\n",
    "import warnings\n",
    "import numpy as np\n",
    "import pandas as pd\n",
    "import seaborn as sns\n",
    "import lightgbm as lgb\n",
    "from tqdm import tqdm_notebook\n",
    "import matplotlib.pyplot as plt\n",
    "from sklearn.metrics import mean_squared_error\n",
    "from sklearn.metrics import roc_auc_score, roc_curve\n",
    "from sklearn.model_selection import StratifiedKFold\n",
    "from sklearn.model_selection import train_test_split\n",
    "warnings.filterwarnings('ignore')\n",
    "\n",
    "import pandas as pd\n",
    "import numpy as np\n",
    "import xgboost as xgb\n",
    "from xgboost.sklearn import XGBClassifier\n",
    "from sklearn import cross_validation, metrics   #Additional scklearn functions\n",
    "from sklearn.grid_search import GridSearchCV   #Perforing grid search"
   ]
  },
  {
   "cell_type": "code",
   "execution_count": 53,
   "metadata": {},
   "outputs": [],
   "source": [
    "train = pd.read_csv('train_modified.csv')\n",
    "test = pd.read_csv('test_modified.csv')\n",
    "train['target']=train['Disbursed']\n",
    "train=train.drop('Disbursed',axis=1)\n",
    "target = 'Disbursed'\n",
    "IDcol = 'ID'"
   ]
  },
  {
   "cell_type": "code",
   "execution_count": 56,
   "metadata": {},
   "outputs": [
    {
     "data": {
      "text/plain": [
       "array([  0.,   1.,  nan])"
      ]
     },
     "execution_count": 56,
     "metadata": {},
     "output_type": "execute_result"
    }
   ],
   "source": [
    "data=train.append(test)\n",
    "data.head(2)"
   ]
  },
  {
   "cell_type": "code",
   "execution_count": 118,
   "metadata": {
    "scrolled": true
   },
   "outputs": [
    {
     "name": "stdout",
     "output_type": "stream",
     "text": [
      "[0]\ttrain-auc:0.759251+0.0167934\ttest-auc:0.749253+0.0099274\n",
      "[10]\ttrain-auc:0.841305+0.00571952\ttest-auc:0.818179+0.0101398\n",
      "[20]\ttrain-auc:0.860179+0.00373012\ttest-auc:0.826288+0.0122425\n",
      "[30]\ttrain-auc:0.870247+0.00361937\ttest-auc:0.829738+0.0143461\n",
      "[40]\ttrain-auc:0.877873+0.00217403\ttest-auc:0.832099+0.0136744\n",
      "[50]\ttrain-auc:0.884501+0.00118162\ttest-auc:0.834242+0.0137074\n",
      "[60]\ttrain-auc:0.890418+0.000867866\ttest-auc:0.836148+0.013945\n",
      "[70]\ttrain-auc:0.894865+0.00115043\ttest-auc:0.83764+0.0138927\n",
      "[80]\ttrain-auc:0.899121+0.00158845\ttest-auc:0.839362+0.0124564\n",
      "[90]\ttrain-auc:0.903823+0.00115142\ttest-auc:0.839732+0.0119886\n",
      "[100]\ttrain-auc:0.909229+0.000976705\ttest-auc:0.841584+0.0107664\n",
      "[110]\ttrain-auc:0.913561+0.000704834\ttest-auc:0.841605+0.0107036\n",
      "[120]\ttrain-auc:0.91772+0.000963367\ttest-auc:0.84197+0.0103876\n",
      "[130]\ttrain-auc:0.922033+0.00128618\ttest-auc:0.84164+0.0100305\n",
      "[140]\ttrain-auc:0.926028+0.00163053\ttest-auc:0.841073+0.00978095\n",
      "[150]\ttrain-auc:0.929274+0.00184643\ttest-auc:0.841181+0.0100025\n",
      "[160]\ttrain-auc:0.932879+0.00156043\ttest-auc:0.84125+0.00967129\n",
      "\n",
      "Model Report-train\n",
      "Accuracy : 0.9854\n",
      "AUC Score (Train): 0.898973\n",
      "\n",
      "Model Report-test\n",
      "Accuracy : 0.9854\n",
      "AUC Score (Test): 0.881465\n"
     ]
    },
    {
     "data": {
      "image/png": "[encoded data removed]",
      "text/plain": [
       "<matplotlib.figure.Figure at 0x2f317a4e710>"
      ]
     },
     "metadata": {},
     "output_type": "display_data"
    }
   ],
   "source": [
    "def modelfit(alg, data,features,predictors,useTrainCV=True, cv_folds=5, early_stopping_rounds=50):\n",
    "    \n",
    "    X = data.loc[~data.target.isna(),features]\n",
    "    Y = data[~data.target.isna()].target\n",
    "    X_train, X_test, y_train, y_test = train_test_split( X, Y,test_size = 0.3, random_state = 100,stratify=Y)\n",
    "    \n",
    "    if useTrainCV:\n",
    "        xgb_param = alg.get_xgb_params()\n",
    "        xgtrain = xgb.DMatrix(X_train.values,label=y_train.values)\n",
    "        #xgtest = xgb.DMatrix([predictors].values)\n",
    "        cvresult = xgb.cv(xgb_param, xgtrain, num_boost_round=alg.get_params()['n_estimators'], nfold=cv_folds,\n",
    "            metrics='auc', early_stopping_rounds=early_stopping_rounds,verbose_eval=10)\n",
    "        alg.set_params(n_estimators=cvresult.shape[0])\n",
    "    \n",
    "    #Fit the algorithm on the data\n",
    "    alg.fit(X, Y,eval_metric='auc')\n",
    "        \n",
    "    #Predict training set:\n",
    "    dtrain_predictions = alg.predict(X_train)\n",
    "    dtrain_predprob = alg.predict_proba(X_train)[:,1]\n",
    "        \n",
    "    #Print model report(train):\n",
    "    print(\"\\nModel Report-train\")\n",
    "    print(\"Accuracy : %.4g\" % metrics.accuracy_score(y_train, dtrain_predictions))\n",
    "    print(\"AUC Score (Train): %f\" % metrics.roc_auc_score(y_train, dtrain_predprob))\n",
    "    \n",
    "    #Predict on testing data:\n",
    "    dtest_predictions = alg.predict(X_test)\n",
    "    dtest_predprob = alg.predict_proba(X_test)[:,1]\n",
    "    \n",
    "    #Print model report(test):\n",
    "    print(\"\\nModel Report-test\")\n",
    "    print(\"Accuracy : %.4g\" % metrics.accuracy_score(y_test, dtest_predictions))\n",
    "    print(\"AUC Score (Test): %f\" % metrics.roc_auc_score(y_test, dtest_predprob))\n",
    "    \n",
    "    # plot AUC from train and test set \n",
    "    x_axis = range(0, cvresult.shape[0])\n",
    "    fig, ax = pyplot.subplots()\n",
    "    ax.plot(x_axis, cvresult['train-auc-mean'], label='Train')\n",
    "    ax.plot(x_axis, cvresult['test-auc-mean'], label='Test')\n",
    "    ax.legend()\n",
    "    pyplot.show()\n",
    "    \n",
    "    #Predicting for the test set \n",
    "    testD=data.loc[data.target.isna(),features]\n",
    "    testD['predprob'] = alg.predict_proba(testD)[:,1]\n",
    "    testD.to_csv(\"Prediction.csv\",index=False)    \n",
    "                \n",
    "    #feat_imp = pd.Series(alg.booster().get_fscore()).sort_values(ascending=False)\n",
    "    #feat_imp.plot(kind='bar', title='Feature Importances')\n",
    "    #plt.ylabel('Feature Importance Score')\n",
    "    return alg, cvresult, testD \n",
    "    \n",
    "#Choose all predictors except target & IDcols\n",
    "target = 'target'\n",
    "IDcol = 'ID'\n",
    "predictors = [x for x in data.columns if x not in [IDcol]]\n",
    "features = [x for x in data.columns if x not in [IDcol,target]]\n",
    "    \n",
    "alg = XGBClassifier(\n",
    " learning_rate =0.1,\n",
    " n_estimators=1000,\n",
    " max_depth=5,\n",
    " min_child_weight=1,\n",
    " gamma=0,\n",
    " subsample=0.8,\n",
    " colsample_bytree=0.8,\n",
    " objective= 'binary:logistic',\n",
    " nthread=4,\n",
    " scale_pos_weight=1,\n",
    " seed=27)\n",
    "\n",
    "alg,cvresult,testD=modelfit(alg,data,features,predictors)"
   ]
  },
  {
   "cell_type": "code",
   "execution_count": null,
   "metadata": {},
   "outputs": [],
   "source": [
    "#Parameter tunning process \n",
    "\n",
    "#1. Tune max_depth and min_child_weight \n",
    "#2. Tune gamma \n",
    "#3. Again check optimum number of tress (n_estimators) -model run and check accuracy \n",
    "#4. T une subsample and colsample_bytree\n",
    "#5. Tune reg_alpha\n",
    "#6. Again check optimum number of tress (n_estimators) -model run and check accuracy  for any improvement \n",
    "#7. Reduce learning rate and maximize number of trees and run mode again "
   ]
  },
  {
   "cell_type": "code",
   "execution_count": 116,
   "metadata": {},
   "outputs": [
    {
     "name": "stdout",
     "output_type": "stream",
     "text": [
      "Fitting 3 folds for each of 4 candidates, totalling 12 fits\n"
     ]
    },
    {
     "name": "stderr",
     "output_type": "stream",
     "text": [
      "[Parallel(n_jobs=4)]: Done   1 tasks      | elapsed:   11.3s\n",
      "[Parallel(n_jobs=4)]: Done   2 tasks      | elapsed:   18.0s\n",
      "[Parallel(n_jobs=4)]: Done   3 tasks      | elapsed:   20.2s\n",
      "[Parallel(n_jobs=4)]: Done   4 tasks      | elapsed:   21.8s\n",
      "[Parallel(n_jobs=4)]: Done   5 tasks      | elapsed:   26.9s\n",
      "[Parallel(n_jobs=4)]: Done   6 out of  12 | elapsed:   35.0s remaining:   35.0s\n",
      "[Parallel(n_jobs=4)]: Done   7 out of  12 | elapsed:   48.7s remaining:   34.7s\n",
      "[Parallel(n_jobs=4)]: Done   8 out of  12 | elapsed:   50.1s remaining:   25.0s\n",
      "[Parallel(n_jobs=4)]: Done   9 out of  12 | elapsed:   55.1s remaining:   18.3s\n",
      "[Parallel(n_jobs=4)]: Done  10 out of  12 | elapsed:   59.3s remaining:   11.8s\n",
      "[Parallel(n_jobs=4)]: Done  12 out of  12 | elapsed:  1.1min remaining:    0.0s\n",
      "[Parallel(n_jobs=4)]: Done  12 out of  12 | elapsed:  1.1min finished\n"
     ]
    },
    {
     "data": {
      "text/plain": [
       "([mean: 0.83032, std: 0.00561, params: {'max_depth': 3, 'min_child_weight': 1},\n",
       "  mean: 0.83216, std: 0.00573, params: {'max_depth': 3, 'min_child_weight': 3},\n",
       "  mean: 0.83474, std: 0.00821, params: {'max_depth': 5, 'min_child_weight': 1},\n",
       "  mean: 0.83588, std: 0.00780, params: {'max_depth': 5, 'min_child_weight': 3}],\n",
       " {'max_depth': 5, 'min_child_weight': 3},\n",
       " 0.8358832433201234)"
      ]
     },
     "execution_count": 116,
     "metadata": {},
     "output_type": "execute_result"
    }
   ],
   "source": [
    "#1. Tune max_depth and min_child_weight \n",
    "param_test1 = {\n",
    " 'max_depth':[3,5],\n",
    " 'min_child_weight':[1,3]\n",
    "}\n",
    "estimator=XGBClassifier( learning_rate =0.1, n_estimators=119, gamma=0, subsample=0.8, \n",
    "                        colsample_bytree=0.8,objective= 'binary:logistic', nthread=4, scale_pos_weight=1, seed=27)\n",
    "\n",
    "gsearch1 = GridSearchCV(estimator = estimator, param_grid = param_test1, scoring='roc_auc',n_jobs=4,iid=False, cv=3,verbose=30)\n",
    "gsearch1.fit(train[features],train[target])\n",
    "gsearch1.grid_scores_, gsearch1.best_params_, gsearch1.best_score_"
   ]
  },
  {
   "cell_type": "code",
   "execution_count": null,
   "metadata": {},
   "outputs": [],
   "source": [
    "#2. Tune gamma \n",
    "param_test3 = {\n",
    " 'gamma':[i/10.0 for i in range(0,5)]\n",
    "}\n",
    "gsearch3 = GridSearchCV(estimator = XGBClassifier( learning_rate =0.1, n_estimators=140, max_depth=4,\n",
    " min_child_weight=6, gamma=0, subsample=0.8, colsample_bytree=0.8,\n",
    " objective= 'binary:logistic', nthread=4, scale_pos_weight=1,seed=27), \n",
    " param_grid = param_test3, scoring='roc_auc',n_jobs=4,iid=False, cv=5)\n",
    "gsearch3.fit(train[predictors],train[target])\n",
    "gsearch3.grid_scores_, gsearch3.best_params_, gsearch3.best_score_"
   ]
  },
  {
   "cell_type": "code",
   "execution_count": null,
   "metadata": {},
   "outputs": [],
   "source": [
    "#3. Again check optimum number of tress (n_estimators) -model run and check accuracy \n",
    "alg = XGBClassifier(\n",
    " learning_rate =0.1,\n",
    " n_estimators=1000,\n",
    " max_depth=4,\n",
    " min_child_weight=6,\n",
    " gamma=0,\n",
    " subsample=0.8,\n",
    " colsample_bytree=0.8,\n",
    " objective= 'binary:logistic',\n",
    " nthread=4,\n",
    " scale_pos_weight=1,\n",
    " seed=27)\n",
    "\n",
    "cv,dtest_predictions,yt=modelfit(alg,data,features,predictors)"
   ]
  },
  {
   "cell_type": "code",
   "execution_count": null,
   "metadata": {},
   "outputs": [],
   "source": [
    "#4. Tune subsample and colsample_bytree\n",
    "param_test4 = {\n",
    " 'subsample':[i/10.0 for i in range(6,10)],\n",
    " 'colsample_bytree':[i/10.0 for i in range(6,10)]\n",
    "}\n",
    "gsearch4 = GridSearchCV(estimator = XGBClassifier( learning_rate =0.1, n_estimators=177, max_depth=4,\n",
    " min_child_weight=6, gamma=0, subsample=0.8, colsample_bytree=0.8,\n",
    " objective= 'binary:logistic', nthread=4, scale_pos_weight=1,seed=27), \n",
    " param_grid = param_test4, scoring='roc_auc',n_jobs=4,iid=False, cv=5)\n",
    "gsearch4.fit(train[predictors],train[target])\n",
    "gsearch4.grid_scores_, gsearch4.best_params_, gsearch4.best_score_"
   ]
  },
  {
   "cell_type": "code",
   "execution_count": null,
   "metadata": {},
   "outputs": [],
   "source": [
    "#5. Tune reg_alpha\n",
    "param_test6 = {\n",
    " 'reg_alpha':[1e-5, 1e-2, 0.1, 1, 100]\n",
    "}\n",
    "gsearch6 = GridSearchCV(estimator = XGBClassifier( learning_rate =0.1, n_estimators=177, max_depth=4,\n",
    " min_child_weight=6, gamma=0.1, subsample=0.8, colsample_bytree=0.8,\n",
    " objective= 'binary:logistic', nthread=4, scale_pos_weight=1,seed=27), \n",
    " param_grid = param_test6, scoring='roc_auc',n_jobs=4,iid=False, cv=5)\n",
    "gsearch6.fit(train[predictors],train[target])\n",
    "gsearch6.grid_scores_, gsearch6.best_params_, gsearch6.best_score_"
   ]
  },
  {
   "cell_type": "code",
   "execution_count": null,
   "metadata": {},
   "outputs": [],
   "source": [
    "#6. Again check optimum number of tress (n_estimators) -model run and check accuracy  for any improvement \n",
    "alg = XGBClassifier(\n",
    " learning_rate =0.1,\n",
    " n_estimators=1000,\n",
    " max_depth=4,\n",
    " min_child_weight=6,\n",
    " gamma=0,\n",
    " subsample=0.8,\n",
    " colsample_bytree=0.8,\n",
    " objective= 'binary:logistic',\n",
    " nthread=4,\n",
    " scale_pos_weight=1,\n",
    " seed=27)\n",
    "\n",
    "cv,dtest_predictions,yt=modelfit(alg,data,features,predictors)"
   ]
  },
  {
   "cell_type": "code",
   "execution_count": null,
   "metadata": {},
   "outputs": [],
   "source": [
    "#7. Reduce learning rate and maximize number of trees and run mode again \n",
    "alg = XGBClassifier(\n",
    " learning_rate =0.01,\n",
    " n_estimators=5000,\n",
    " max_depth=4,\n",
    " min_child_weight=6,\n",
    " gamma=0,\n",
    " subsample=0.8,\n",
    " colsample_bytree=0.8,\n",
    " reg_alpha=0.005,\n",
    " objective= 'binary:logistic',\n",
    " nthread=4,\n",
    " scale_pos_weight=1,\n",
    " seed=27)\n",
    "\n",
    "cv,dtest_predictions,yt=modelfit(alg,data,features,predictors)"
   ]
  }
 ],
 "metadata": {
  "kernelspec": {
   "display_name": "Python 3",
   "language": "python",
   "name": "python3"
  },
  "language_info": {
   "codemirror_mode": {
    "name": "ipython",
    "version": 3
   },
   "file_extension": ".py",
   "mimetype": "text/x-python",
   "name": "python",
   "nbconvert_exporter": "python",
   "pygments_lexer": "ipython3",
   "version": "3.6.4"
  }
 },
 "nbformat": 4,
 "nbformat_minor": 2
}
